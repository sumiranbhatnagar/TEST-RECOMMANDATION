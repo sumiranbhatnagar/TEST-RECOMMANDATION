{
 "cells": [
  {
   "cell_type": "markdown",
   "id": "32a91342",
   "metadata": {},
   "source": [
    "# Try These New Tests"
   ]
  },
  {
   "cell_type": "code",
   "execution_count": null,
   "id": "58448ee8",
   "metadata": {},
   "outputs": [],
   "source": [
    "import psycopg2\n",
    "conn = psycopg2.connect(\"host='localhost' port='5432' dbname='data_dump' user='postgres' password='SUMIran'\")\n",
    "cur = conn.cursor()"
   ]
  },
  {
   "cell_type": "code",
   "execution_count": 2,
   "id": "1393659c",
   "metadata": {},
   "outputs": [],
   "source": [
    "def testforstd(student_id):\n",
    "    \n",
    "    cur.execute(\n",
    "            \"select std_id from student_details where id = %s\",\n",
    "             (str(student_id),)\n",
    "             )\n",
    "    std_id = cur.fetchone()[0] \n",
    "    \n",
    "    cur.execute(\n",
    "            \"select id from testlists where std_id = %s\",\n",
    "             (str(std_id) ,)\n",
    "             )\n",
    "    test_name = cur.fetchall()\n",
    "   \n",
    "    tn = list(sum(test_name, ()))\n",
    "    tn = set(tn)\n",
    "    return tn\n"
   ]
  },
  {
   "cell_type": "code",
   "execution_count": 3,
   "id": "2983a587",
   "metadata": {},
   "outputs": [],
   "source": [
    "def testgiven(student_id):\n",
    "    testgiven = set()\n",
    "    cur.execute(\n",
    "            \"select test_id from comparisons where student_id = %s\",\n",
    "             (str(student_id) ,)\n",
    "             )\n",
    "    \n",
    "    ott = cur.fetchall()\n",
    "    out = list(sum(ott, ()))\n",
    "    out = set(out)\n",
    "    return out"
   ]
  },
  {
   "cell_type": "code",
   "execution_count": null,
   "id": "17811ba8",
   "metadata": {},
   "outputs": [],
   "source": [
    "n = input ('enter the student ID ')\n",
    "x = testgiven(n).symmetric_difference(testforstd(n))\n",
    "\n",
    "\n",
    "for a in x: \n",
    "    cur.execute(\n",
    "            \"select test_name from testlists where id = %s\",\n",
    "             (str(a) ,)\n",
    "             )\n",
    "    ott = cur.fetchall()\n",
    "    out = list(sum(ott , ()))\n",
    "    print(out)"
   ]
  },
  {
   "cell_type": "code",
   "execution_count": null,
   "id": "3c3abf65",
   "metadata": {},
   "outputs": [],
   "source": []
  },
  {
   "cell_type": "code",
   "execution_count": null,
   "id": "89d474cf",
   "metadata": {},
   "outputs": [],
   "source": [
    "conn.rollback()"
   ]
  },
  {
   "cell_type": "code",
   "execution_count": null,
   "id": "8058f459",
   "metadata": {},
   "outputs": [],
   "source": []
  }
 ],
 "metadata": {
  "kernelspec": {
   "display_name": "Python 3",
   "language": "python",
   "name": "python3"
  },
  "language_info": {
   "codemirror_mode": {
    "name": "ipython",
    "version": 3
   },
   "file_extension": ".py",
   "mimetype": "text/x-python",
   "name": "python",
   "nbconvert_exporter": "python",
   "pygments_lexer": "ipython3",
   "version": "3.8.5"
  }
 },
 "nbformat": 4,
 "nbformat_minor": 5
}
